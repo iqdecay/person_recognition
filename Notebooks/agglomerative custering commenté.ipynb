{
 "cells": [
  {
   "cell_type": "markdown",
   "metadata": {},
   "source": [
    "On explore dans ce Jupyter Notebook la piste dans laquelle nous appliquons l'algorithme de Agglomerative Clustering aux vecteurs de 128 dimensions.\n",
    "L'algorithme Agglomerative Clustering\n",
    "Agglomerative Clustering est un algorithme de clustering où on regroupe les points les plus proches en un cluster et ainsi de suite jusqu’à ce qu’on obtienne une hiérarchie représentée par un dendogramme.\n",
    "Comment?\n",
    "Initialement, chaque individu forme un cluster. On essaie de rassembler les clusters en un. À chaque itération, on fusionne deux clusters réduisant ainsi le nombre de clusters. Les deux cluster choisis pour être fusionnées sont ceux qui sont les plus « proches », autrement dit, ceux dont la dissimilarité entre eux est minimale. La dissimilarité est une mesure de similarité entre les points.\n",
    "Avantages et inconvénients de Agglomerative Clustering:\n",
    "Avantages:\n",
    "•Agglomerative clustering a pour sortie une hiérarchie qui nous permet de discerner le nombre de clusters qu’on veut à partir de la structure fournie vers la fin qui est beaucoup plus informative que le résultat fourni par le K-means\n",
    "\n",
    "Inconvénients:\n",
    "\n",
    "•Relativement long O(n³) : pour un nombre élevé de points, l’algorithme peut être long à exécuter, mais dans le cadre de notre projet, nous dépassons rarement 100 points par dossier, en plus de cela, malgré sa lenteur, le traitement est parallélisable, chaque point peut être traité en parallèle avec les autres points.\n",
    "•Non-robuste aux outliers :On rassemble les outliers sous des clusters même s’ils n’en font pas partie.\n",
    "Application de Agglomerative Clustering sur nos données\n"
   ]
  },
  {
   "cell_type": "code",
   "execution_count": 1,
   "metadata": {},
   "outputs": [],
   "source": [
    "import numpy as np\n",
    "import os\n",
    "from PIL import Image\n",
    "import pickle\n",
    "import matplotlib.pyplot as plt\n",
    "import seaborn as sns\n",
    "import sklearn.cluster as cluster\n",
    "import time\n",
    "%matplotlib inline\n",
    "sns.set_context('poster')\n",
    "sns.set_color_codes()\n",
    "plot_kwds = {'alpha' : 0.25, 's' : 80, 'linewidths':0}"
   ]
  },
  {
   "cell_type": "markdown",
   "metadata": {},
   "source": [
    "\n",
    "Import de tous les modules disponibles et utiles pour la suite."
   ]
  },
  {
   "cell_type": "code",
   "execution_count": 3,
   "metadata": {},
   "outputs": [],
   "source": [
    "def plot_clusters(data, algorithm, args, kwds):\n",
    "    start_time = time.time()\n",
    "    labels = algorithm(*args, **kwds).fit_predict(data)\n",
    "    end_time = time.time()\n",
    "    palette = sns.color_palette('deep', np.unique(labels).max() + 1)\n",
    "    colors = [palette[x] if x >= 0 else (0.0, 0.0, 0.0) for x in labels]\n",
    "    plt.scatter(data.T[0], data.T[1], c=colors, **plot_kwds)\n",
    "    frame = plt.gca()\n",
    "    frame.axes.get_xaxis().set_visible(False)\n",
    "    frame.axes.get_yaxis().set_visible(False)\n",
    "    plt.title('Clusters found by {}'.format(str(algorithm.__name__)), fontsize=24)\n",
    "    plt.text(-0.5, 0.7, 'Clustering took {:.2f} s'.format(end_time - start_time), fontsize=14)"
   ]
  },
  {
   "cell_type": "markdown",
   "metadata": {},
   "source": [
    "Fonction permettant d'effectuer et d'afficher le clustering de données (arg 1) avec un algorithme connu de python passé en argument (dans ce notebook: aglomerative clustering)"
   ]
  },
  {
   "cell_type": "code",
   "execution_count": 4,
   "metadata": {},
   "outputs": [],
   "source": [
    "Dict=pickle.load(open(\"fichierDicoS4.pkl\",'rb'))"
   ]
  },
  {
   "cell_type": "code",
   "execution_count": 16,
   "metadata": {},
   "outputs": [
    {
     "name": "stdout",
     "output_type": "stream",
     "text": [
      "0\n",
      "1\n",
      "2\n",
      "3\n",
      "4\n",
      "5\n",
      "6\n",
      "7\n",
      "8\n",
      "9\n",
      "10\n",
      "11\n",
      "12\n",
      "13\n",
      "14\n",
      "15\n",
      "16\n",
      "17\n",
      "18\n",
      "19\n",
      "20\n",
      "21\n",
      "22\n",
      "23\n",
      "24\n",
      "25\n",
      "26\n",
      "27\n",
      "28\n",
      "29\n",
      "30\n",
      "31\n",
      "32\n",
      "33\n",
      "34\n",
      "35\n",
      "36\n",
      "37\n",
      "38\n",
      "39\n",
      "40\n",
      "41\n",
      "vide\n",
      "43\n",
      "44\n",
      "45\n",
      "46\n",
      "47\n",
      "48\n",
      "49\n",
      "50\n",
      "51\n",
      "52\n"
     ]
    }
   ],
   "source": [
    "name=\"rafael benítez\"\n",
    "\n",
    "num_pictures=len(Dict[name].keys())\n",
    "\n",
    "X=np.zeros((num_pictures,128))\n",
    "\n",
    "for i in range(num_pictures):\n",
    "    \n",
    "    if Dict[name][i]!=[]:\n",
    "        print(i)\n",
    "        X[i]=Dict[name][i][0]\n",
    "    else:\n",
    "        print(\"vide\")\n",
    "        X[i]=np.zeros((128))\n",
    "\n",
    "\n"
   ]
  },
  {
   "cell_type": "code",
   "execution_count": 7,
   "metadata": {},
   "outputs": [
    {
     "name": "stdout",
     "output_type": "stream",
     "text": [
      "The size of X:  (53, 128)\n",
      "The number of pictures in the folder:  53\n",
      "The output dimension of Face_recognition:  128\n"
     ]
    }
   ],
   "source": [
    "print(\"The size of X: \",X.shape)\n",
    "print(\"The number of pictures in the folder: \",num_pictures)\n",
    "print(\"The output dimension of Face_recognition: \",Dict[name][0][0].shape[0])"
   ]
  },
  {
   "cell_type": "code",
   "execution_count": 8,
   "metadata": {},
   "outputs": [
    {
     "data": {
      "image/png": "[encoded data removed]",
      "text/plain": [
       "<Figure size 432x288 with 1 Axes>"
      ]
     },
     "metadata": {
      "needs_background": "light"
     },
     "output_type": "display_data"
    }
   ],
   "source": [
    "from sklearn.decomposition import PCA\n",
    "import matplotlib.pyplot as plt\n",
    "\n",
    "pca=PCA(n_components=2)\n",
    "X_reduced=pca.fit_transform(X)\n",
    "plt.scatter(X_reduced[:,0],X_reduced[:,1])\n",
    "plt.title('Nuage de points avec Matplotlib')\n",
    "plt.xlabel('X_reduced0')\n",
    "plt.ylabel('X_reduced1')\n",
    "plt.show()  "
   ]
  },
  {
   "cell_type": "code",
   "execution_count": 9,
   "metadata": {},
   "outputs": [
    {
     "name": "stdout",
     "output_type": "stream",
     "text": [
      "53\n"
     ]
    }
   ],
   "source": [
    "print(len(X))"
   ]
  },
  {
   "cell_type": "markdown",
   "metadata": {},
   "source": [
    "Pour cette fore de clustering, il faut savoir à l'avance combien de clusters on souhaite, ou alors faire beaucoup de tentatives avant de trouver la meilleure. Comme ici on veut procéder à de la classification binaire, on va utiliser n_cluster= 2, même si techniquement les outliers ne forment pas un cluster à part entière : on a donc avant même de commencer les tests un problème qui se pose vis à vis des outliers pour cette méthode."
   ]
  },
  {
   "cell_type": "code",
   "execution_count": 11,
   "metadata": {},
   "outputs": [
    {
     "data": {
      "image/png": "[encoded data removed]",
      "text/plain": [
       "<Figure size 432x288 with 1 Axes>"
      ]
     },
     "metadata": {
      "needs_background": "light"
     },
     "output_type": "display_data"
    }
   ],
   "source": [
    "plot_clusters(X, cluster.AgglomerativeClustering, (), {'n_clusters':2, 'linkage':'ward'})"
   ]
  },
  {
   "cell_type": "markdown",
   "metadata": {},
   "source": [
    "Appel de la fonction écrite au début pour avoir une approche visuelle du clustering :  montre déjà des difficultés à créer des clusters bien délimités mais insuffisant."
   ]
  },
  {
   "cell_type": "code",
   "execution_count": 12,
   "metadata": {},
   "outputs": [
    {
     "name": "stdout",
     "output_type": "stream",
     "text": [
      "[1 0 1 0 1 1 1 1 1 1 1 1 1 1 1 0 1 1 1 1 1 1 1 1 0 1 1 1 0 0 1 1 0 1 1 1 1\n",
      " 1 1 0 0 1 0 1 0 1 0 1 1 1 0 1 1]\n"
     ]
    }
   ],
   "source": [
    "clustering = cluster.AgglomerativeClustering(n_clusters=2).fit_predict(X)\n",
    "print(clustering) "
   ]
  },
  {
   "cell_type": "code",
   "execution_count": 14,
   "metadata": {},
   "outputs": [
    {
     "name": "stdout",
     "output_type": "stream",
     "text": [
      "AgglomerativeClustering(affinity='euclidean', compute_full_tree='auto',\n",
      "            connectivity=None, linkage='ward', memory=None, n_clusters=2,\n",
      "            pooling_func=<function mean at 0x000002BEA3CBF9D8>)\n"
     ]
    }
   ],
   "source": [
    "clustering = cluster.AgglomerativeClustering(n_clusters=2).fit(X)\n",
    "print(clustering) "
   ]
  },
  {
   "cell_type": "markdown",
   "metadata": {},
   "source": [
    "De toutes les possibilités, fit_predict semble la plus adaptée pour un algorithme de décision binaire. La dernière chose à faire est d'effectuer des tests avec l'algorithme développé pour ça, ce qui nous permettra d'obtenir un chiffre précis."
   ]
  }
 ],
 "metadata": {
  "kernelspec": {
   "display_name": "Python 3",
   "language": "python",
   "name": "python3"
  },
  "language_info": {
   "codemirror_mode": {
    "name": "ipython",
    "version": 3
   },
   "file_extension": ".py",
   "mimetype": "text/x-python",
   "name": "python",
   "nbconvert_exporter": "python",
   "pygments_lexer": "ipython3",
   "version": "3.7.0"
  }
 },
 "nbformat": 4,
 "nbformat_minor": 2
}
